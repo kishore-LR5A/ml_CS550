{
  "cells": [
    {
      "cell_type": "markdown",
      "metadata": {},
      "source": [
        "# **Resnet 152 classifier model trained on Stylegan dataset**"
      ]
    },
    {
      "cell_type": "markdown",
      "metadata": {
        "id": "iXVpq7c6JBAw"
      },
      "source": [
        "## **Mounting google drive**"
      ]
    },
    {
      "cell_type": "code",
      "execution_count": 1,
      "metadata": {
        "colab": {
          "base_uri": "https://localhost:8080/"
        },
        "id": "Lzrb84EH5JMC",
        "outputId": "746e7d55-a78d-4f96-8e42-71d7ca62771f"
      },
      "outputs": [
        {
          "name": "stdout",
          "output_type": "stream",
          "text": [
            "Mounted at /content/gdrive\n"
          ]
        }
      ],
      "source": [
        "# mount the google drive\n",
        "from google.colab import drive\n",
        "drive.mount('/content/gdrive')"
      ]
    },
    {
      "cell_type": "markdown",
      "metadata": {
        "id": "bz1t5c_kJVIv"
      },
      "source": [
        "## **Cloning the code Repository**"
      ]
    },
    {
      "cell_type": "code",
      "execution_count": 2,
      "metadata": {
        "colab": {
          "base_uri": "https://localhost:8080/"
        },
        "id": "mlSnobHm5RbA",
        "outputId": "e906f6b2-ee62-4b5b-993e-5509f76316b2"
      },
      "outputs": [
        {
          "name": "stdout",
          "output_type": "stream",
          "text": [
            "Cloning into 'CNNDetection'...\n",
            "remote: Enumerating objects: 632, done.\u001b[K\n",
            "remote: Counting objects: 100% (6/6), done.\u001b[K\n",
            "remote: Compressing objects: 100% (6/6), done.\u001b[K\n",
            "remote: Total 632 (delta 0), reused 1 (delta 0), pack-reused 626\u001b[K\n",
            "Receiving objects: 100% (632/632), 6.37 MiB | 19.77 MiB/s, done.\n",
            "Resolving deltas: 100% (94/94), done.\n"
          ]
        }
      ],
      "source": [
        "# cd to any directory\n",
        "!git clone https://github.com/PeterWang512/CNNDetection.git"
      ]
    },
    {
      "cell_type": "markdown",
      "metadata": {
        "id": "cju6zWwJeSqW"
      },
      "source": [
        "## Download commands"
      ]
    },
    {
      "cell_type": "code",
      "execution_count": null,
      "metadata": {
        "id": "2212OlusUC8Q"
      },
      "outputs": [],
      "source": [
        "!cd /content/CNNDetection/dataset/test/ && bash download_testset.sh"
      ]
    },
    {
      "cell_type": "code",
      "execution_count": 11,
      "metadata": {
        "id": "3w3kp0MCUL2U"
      },
      "outputs": [],
      "source": [
        "!cp -Rf /content/gdrive/MyDrive/stylegan50/bedroom /content/CNNDetection/dataset/val/"
      ]
    },
    {
      "cell_type": "code",
      "execution_count": 12,
      "metadata": {
        "id": "rXtiiCZBWfAL"
      },
      "outputs": [],
      "source": [
        "!cp -Rf /content/gdrive/MyDrive/stylegan50/car /content/CNNDetection/dataset/val/"
      ]
    },
    {
      "cell_type": "code",
      "execution_count": 13,
      "metadata": {
        "id": "kAnAn0l2WlZg"
      },
      "outputs": [],
      "source": [
        "!cp -Rf /content/gdrive/MyDrive/stylegan50/cat /content/CNNDetection/dataset/val/"
      ]
    },
    {
      "cell_type": "code",
      "execution_count": 14,
      "metadata": {
        "id": "-3o_eF_lW2PU"
      },
      "outputs": [],
      "source": [
        "!cp -Rf /content/gdrive/MyDrive/stylegan.zip /content/CNNDetection/dataset/train/"
      ]
    },
    {
      "cell_type": "code",
      "execution_count": null,
      "metadata": {
        "id": "9Mf_wjRyXNVp"
      },
      "outputs": [],
      "source": [
        "!unzip /content/CNNDetection/dataset/train/stylegan.zip "
      ]
    },
    {
      "cell_type": "code",
      "execution_count": 16,
      "metadata": {
        "id": "vXuc4THcXxd_"
      },
      "outputs": [],
      "source": [
        "!cp -Rf /content/stylegan/bedroom /content/CNNDetection/dataset/train/"
      ]
    },
    {
      "cell_type": "code",
      "execution_count": 17,
      "metadata": {
        "id": "Tu7ciYO5X5Z5"
      },
      "outputs": [],
      "source": [
        "!cp -Rf /content/stylegan/car /content/CNNDetection/dataset/train/"
      ]
    },
    {
      "cell_type": "code",
      "execution_count": 18,
      "metadata": {
        "id": "_L9-iPPwX8DT"
      },
      "outputs": [],
      "source": [
        "!cp -Rf /content/stylegan/cat /content/CNNDetection/dataset/train/"
      ]
    },
    {
      "cell_type": "code",
      "execution_count": 19,
      "metadata": {
        "id": "AHr5SAJPYFRp"
      },
      "outputs": [],
      "source": [
        "! rm -rf /content/stylegan"
      ]
    },
    {
      "cell_type": "markdown",
      "metadata": {
        "id": "5zCZdOkmePpl"
      },
      "source": [
        "## Copy commands"
      ]
    },
    {
      "cell_type": "code",
      "execution_count": null,
      "metadata": {
        "id": "sabavpvva9ZH"
      },
      "outputs": [],
      "source": [
        "!cp -Rf /content/CNNDetection/dataset/test/stylegan/bedroom /content/CNNDetection/dataset/train"
      ]
    },
    {
      "cell_type": "code",
      "execution_count": null,
      "metadata": {
        "id": "Lc7bK4hbd3q-"
      },
      "outputs": [],
      "source": [
        "!cp -Rf /content/CNNDetection/dataset/test/stylegan/car /content/CNNDetection/dataset/train"
      ]
    },
    {
      "cell_type": "code",
      "execution_count": null,
      "metadata": {
        "id": "920RQ4KEd8F9"
      },
      "outputs": [],
      "source": [
        "!cp -Rf /content/CNNDetection/dataset/test/stylegan/cat /content/CNNDetection/dataset/train"
      ]
    },
    {
      "cell_type": "markdown",
      "metadata": {
        "id": "dzc_rSmmeJXW"
      },
      "source": [
        "## Remove commands"
      ]
    },
    {
      "cell_type": "code",
      "execution_count": null,
      "metadata": {
        "id": "r7CWzY2BbxBn"
      },
      "outputs": [],
      "source": [
        "!rm -rf /content/CNNDetection/dataset/test/seeingdark /content/CNNDetection/dataset/test/crn /content/CNNDetection/dataset/test/san /content/CNNDetection/dataset/test/stylegan2"
      ]
    },
    {
      "cell_type": "code",
      "execution_count": 6,
      "metadata": {
        "id": "m3zXd-Oyc2I7"
      },
      "outputs": [],
      "source": [
        "!rm -rf /content/CNNDetection/dataset/test/stylegan"
      ]
    },
    {
      "cell_type": "code",
      "execution_count": null,
      "metadata": {
        "id": "gkPJkPnGja7H"
      },
      "outputs": [],
      "source": [
        "!rm -rf /content/CNNDetection/dataset/train/bedroom"
      ]
    },
    {
      "cell_type": "code",
      "execution_count": 10,
      "metadata": {
        "id": "nbgjn6Q0RZQB"
      },
      "outputs": [],
      "source": [
        "!rm -rf /content/CNNDetection/dataset/val/stylegan50"
      ]
    },
    {
      "cell_type": "code",
      "execution_count": 20,
      "metadata": {
        "id": "pRFBykI9Yf59"
      },
      "outputs": [],
      "source": [
        "!rm -rf /content/CNNDetection/dataset/train/stylegan.zip"
      ]
    },
    {
      "cell_type": "code",
      "execution_count": 33,
      "metadata": {
        "id": "QoDGLzpQZ2xd"
      },
      "outputs": [],
      "source": [
        "!rm -rf /content/CNNDetection/checkpoints"
      ]
    },
    {
      "cell_type": "code",
      "execution_count": 34,
      "metadata": {
        "id": "4MJL17dSuBUO"
      },
      "outputs": [],
      "source": [
        "!rm -rf /content/CNNDetection/results"
      ]
    },
    {
      "cell_type": "markdown",
      "metadata": {
        "id": "fvQtrt5wg1oK"
      },
      "source": [
        "## **Train scripts**"
      ]
    },
    {
      "cell_type": "code",
      "execution_count": 8,
      "metadata": {
        "colab": {
          "base_uri": "https://localhost:8080/"
        },
        "id": "qt58hhMwhkTJ",
        "outputId": "81932692-6cc3-4211-a993-c29cbfdaa6b4"
      },
      "outputs": [
        {
          "name": "stdout",
          "output_type": "stream",
          "text": [
            "Collecting tensorboardX\n",
            "  Downloading tensorboardX-2.4.1-py2.py3-none-any.whl (124 kB)\n",
            "\u001b[?25l\r\u001b[K     |██▋                             | 10 kB 24.7 MB/s eta 0:00:01\r\u001b[K     |█████▎                          | 20 kB 21.1 MB/s eta 0:00:01\r\u001b[K     |███████▉                        | 30 kB 11.2 MB/s eta 0:00:01\r\u001b[K     |██████████▌                     | 40 kB 9.1 MB/s eta 0:00:01\r\u001b[K     |█████████████▏                  | 51 kB 5.4 MB/s eta 0:00:01\r\u001b[K     |███████████████▊                | 61 kB 5.9 MB/s eta 0:00:01\r\u001b[K     |██████████████████▍             | 71 kB 5.6 MB/s eta 0:00:01\r\u001b[K     |█████████████████████           | 81 kB 6.2 MB/s eta 0:00:01\r\u001b[K     |███████████████████████▋        | 92 kB 4.9 MB/s eta 0:00:01\r\u001b[K     |██████████████████████████▎     | 102 kB 5.3 MB/s eta 0:00:01\r\u001b[K     |█████████████████████████████   | 112 kB 5.3 MB/s eta 0:00:01\r\u001b[K     |███████████████████████████████▌| 122 kB 5.3 MB/s eta 0:00:01\r\u001b[K     |████████████████████████████████| 124 kB 5.3 MB/s \n",
            "\u001b[?25hRequirement already satisfied: protobuf>=3.8.0 in /usr/local/lib/python3.7/dist-packages (from tensorboardX) (3.17.3)\n",
            "Requirement already satisfied: numpy in /usr/local/lib/python3.7/dist-packages (from tensorboardX) (1.19.5)\n",
            "Requirement already satisfied: six>=1.9 in /usr/local/lib/python3.7/dist-packages (from protobuf>=3.8.0->tensorboardX) (1.15.0)\n",
            "Installing collected packages: tensorboardX\n",
            "Successfully installed tensorboardX-2.4.1\n"
          ]
        }
      ],
      "source": [
        "!pip3 install tensorboardX"
      ]
    },
    {
      "cell_type": "code",
      "execution_count": 36,
      "metadata": {
        "colab": {
          "base_uri": "https://localhost:8080/"
        },
        "id": "D0YRiQh-Ya1h",
        "outputId": "0722decf-ebb6-47ac-a9ab-24393cc4c17f"
      },
      "outputs": [
        {
          "name": "stdout",
          "output_type": "stream",
          "text": [
            "----------------- Options ---------------\n",
            "                     arch: res50                         \n",
            "               batch_size: 32                            \t[default: 64]\n",
            "                    beta1: 0.9                           \n",
            "                blur_prob: 0.5                           \t[default: 0]\n",
            "                 blur_sig: 0.0,3.0                       \t[default: 0.5]\n",
            "          checkpoints_dir: ./checkpoints                 \n",
            "                class_bal: False                         \n",
            "                  classes: bedroom,car,cat               \t[default: ]\n",
            "           continue_train: False                         \n",
            "                 cropSize: 224                           \n",
            "                 data_aug: False                         \n",
            "                 dataroot: ./dataset                     \n",
            "          earlystop_epoch: 5                             \n",
            "                    epoch: latest                        \n",
            "              epoch_count: 1                             \n",
            "                  gpu_ids: 0                             \n",
            "                init_gain: 0.02                          \n",
            "                init_type: normal                        \n",
            "                  isTrain: True                          \t[default: None]\n",
            "               jpg_method: cv2,pil                       \t[default: cv2]\n",
            "                 jpg_prob: 0.5                           \t[default: 0]\n",
            "                 jpg_qual: 30,100                        \t[default: 75]\n",
            "               last_epoch: -1                            \n",
            "                 loadSize: 256                           \n",
            "                loss_freq: 400                           \n",
            "                       lr: 0.0001                        \n",
            "                     mode: binary                        \n",
            "                     name: blur_jpg_prob0.5              \t[default: experiment_name]\n",
            "                new_optim: False                         \n",
            "                    niter: 10000                         \n",
            "                  no_flip: False                         \n",
            "              num_threads: 2                             \t[default: 4]\n",
            "                    optim: adam                          \n",
            "           resize_or_crop: scale_and_crop                \n",
            "                rz_interp: bilinear                      \n",
            "          save_epoch_freq: 20                            \n",
            "         save_latest_freq: 2000                          \n",
            "           serial_batches: False                         \n",
            "                   suffix:                               \n",
            "              train_split: train                         \n",
            "                val_split: val                           \n",
            "----------------- End -------------------\n",
            "#training images = 366\n",
            "saving the model at the end of epoch 0, iters 366\n",
            "(Val @ epoch 0) acc: 0.9466666666666667; ap: 0.9863985021619852\n",
            "Validation accuracy increased (-inf --> 0.946667).  Saving model ...\n",
            "Train loss: 0.15012094378471375 at step: 400\n",
            "(Val @ epoch 1) acc: 0.8866666666666667; ap: 0.9749971068050157\n",
            "EarlyStopping counter: 1 out of 5\n",
            "Train loss: 0.1596546620130539 at step: 800\n",
            "(Val @ epoch 2) acc: 0.97; ap: 0.9956976017287973\n",
            "Validation accuracy increased (0.946667 --> 0.970000).  Saving model ...\n",
            "Train loss: 0.059221308678388596 at step: 1200\n",
            "(Val @ epoch 3) acc: 0.9633333333333334; ap: 0.9945561660915319\n",
            "EarlyStopping counter: 1 out of 5\n",
            "Train loss: 0.0473756268620491 at step: 1600\n",
            "(Val @ epoch 4) acc: 0.95; ap: 0.9920675549403942\n",
            "EarlyStopping counter: 2 out of 5\n",
            "Train loss: 0.0563097819685936 at step: 2000\n",
            "saving the latest model blur_jpg_prob0.5 (epoch 5, model.total_steps 2000)\n",
            "(Val @ epoch 5) acc: 0.9666666666666667; ap: 0.995278961942313\n",
            "EarlyStopping counter: 3 out of 5\n",
            "Train loss: 0.05109105259180069 at step: 2400\n",
            "(Val @ epoch 6) acc: 0.9666666666666667; ap: 0.9939345050057479\n",
            "EarlyStopping counter: 4 out of 5\n",
            "Train loss: 0.06571928411722183 at step: 2800\n",
            "(Val @ epoch 7) acc: 0.9166666666666666; ap: 0.9887475148189037\n",
            "EarlyStopping counter: 5 out of 5\n",
            "Learning rate dropped by 10, continue training...\n",
            "no\n",
            "Traceback (most recent call last):\n",
            "  File \"train.py\", line 60, in <module>\n",
            "    model.optimize_parameters()\n",
            "  File \"/content/CNNDetection/networks/trainer.py\", line 62, in optimize_parameters\n",
            "    self.loss.backward()\n",
            "  File \"/usr/local/lib/python3.7/dist-packages/torch/_tensor.py\", line 307, in backward\n",
            "    torch.autograd.backward(self, gradient, retain_graph, create_graph, inputs=inputs)\n",
            "  File \"/usr/local/lib/python3.7/dist-packages/torch/autograd/__init__.py\", line 156, in backward\n",
            "    allow_unreachable=True, accumulate_grad=True)  # allow_unreachable flag\n",
            "KeyboardInterrupt\n"
          ]
        }
      ],
      "source": [
        "!cd /content/CNNDetection && python3 train.py --name blur_jpg_prob0.5 --blur_prob 0.5 --blur_sig 0.0,3.0 --jpg_prob 0.5 --jpg_method cv2,pil --jpg_qual 30,100 --dataroot ./dataset --classes bedroom,car,cat --batch_size 32 --num_threads 2"
      ]
    },
    {
      "cell_type": "markdown",
      "metadata": {
        "id": "CPUzla_oqQ3m"
      },
      "source": [
        "## **Downloading checkpoints folder**"
      ]
    },
    {
      "cell_type": "code",
      "execution_count": 37,
      "metadata": {
        "colab": {
          "base_uri": "https://localhost:8080/"
        },
        "id": "ap6VVat-cLtH",
        "outputId": "7bb6e938-ac4b-4095-e8e4-03cea12ed2c7"
      },
      "outputs": [
        {
          "name": "stdout",
          "output_type": "stream",
          "text": [
            "  adding: content/CNNDetection/checkpoints/ (stored 0%)\n",
            "  adding: content/CNNDetection/checkpoints/blur_jpg_prob0.5/ (stored 0%)\n",
            "  adding: content/CNNDetection/checkpoints/blur_jpg_prob0.5/train/ (stored 0%)\n",
            "  adding: content/CNNDetection/checkpoints/blur_jpg_prob0.5/train/events.out.tfevents.1638256936.42dc878743be (deflated 5%)\n",
            "  adding: content/CNNDetection/checkpoints/blur_jpg_prob0.5/train/events.out.tfevents.1638257290.42dc878743be (deflated 40%)\n",
            "  adding: content/CNNDetection/checkpoints/blur_jpg_prob0.5/model_epoch_0.pth (deflated 8%)\n",
            "  adding: content/CNNDetection/checkpoints/blur_jpg_prob0.5/model_epoch_best.pth (deflated 8%)\n",
            "  adding: content/CNNDetection/checkpoints/blur_jpg_prob0.5/opt.txt (deflated 77%)\n",
            "  adding: content/CNNDetection/checkpoints/blur_jpg_prob0.5/model_epoch_latest.pth (deflated 8%)\n",
            "  adding: content/CNNDetection/checkpoints/blur_jpg_prob0.5/val/ (stored 0%)\n",
            "  adding: content/CNNDetection/checkpoints/blur_jpg_prob0.5/val/events.out.tfevents.1638256936.42dc878743be (deflated 5%)\n",
            "  adding: content/CNNDetection/checkpoints/blur_jpg_prob0.5/val/events.out.tfevents.1638257290.42dc878743be (deflated 50%)\n"
          ]
        }
      ],
      "source": [
        "!zip -r /content/checkpoints152.zip /content/CNNDetection/checkpoints"
      ]
    },
    {
      "cell_type": "code",
      "execution_count": 38,
      "metadata": {
        "id": "GWHebXqyZKvV"
      },
      "outputs": [],
      "source": [
        "!cp -Rf /content/checkpoints152.zip /content/gdrive/MyDrive/"
      ]
    },
    {
      "cell_type": "markdown",
      "metadata": {
        "id": "yw54MQmgdlcc"
      },
      "source": [
        "## **Evaluation aka Testing**"
      ]
    },
    {
      "cell_type": "code",
      "execution_count": 39,
      "metadata": {
        "colab": {
          "base_uri": "https://localhost:8080/"
        },
        "id": "Xuo9ICGWblQv",
        "outputId": "2242d7d9-8267-4c6e-bae5-46a5aeea8124"
      },
      "outputs": [
        {
          "name": "stdout",
          "output_type": "stream",
          "text": [
            "model_epoch_best model testing on...\n",
            "(progan) acc: 0.52675; ap: 0.711231794297909\n",
            "(biggan) acc: 0.5505; ap: 0.6512569038196017\n",
            "(cyclegan) acc: 0.5246025738077215; ap: 0.574665044528365\n",
            "(stargan) acc: 0.5002501250625313; ap: 0.5434575576160824\n",
            "(gaugan) acc: 0.5606; ap: 0.6999176862106167\n",
            "(crn) acc: 0.5269507991225322; ap: 0.6904538903873825\n",
            "(imle) acc: 0.554763397054215; ap: 0.7836424926139569\n",
            "(seeingdark) acc: 0.5888888888888889; ap: 0.6022603188315547\n",
            "(san) acc: 0.4977168949771689; ap: 0.5086181374778624\n",
            "(deepfake) acc: 0.5008325624421832; ap: 0.49733598326701994\n"
          ]
        }
      ],
      "source": [
        "!cd /content/CNNDetection && python3 eval.py --num_threads 2"
      ]
    },
    {
      "cell_type": "code",
      "execution_count": 40,
      "metadata": {
        "colab": {
          "base_uri": "https://localhost:8080/"
        },
        "id": "dPaJVWY8bqlF",
        "outputId": "6b8f5fd3-a12e-42ea-bbb6-aab5bf755f27"
      },
      "outputs": [
        {
          "name": "stdout",
          "output_type": "stream",
          "text": [
            "  adding: content/CNNDetection/results/ (stored 0%)\n",
            "  adding: content/CNNDetection/results/model_epoch_best.csv (deflated 40%)\n"
          ]
        }
      ],
      "source": [
        "!zip -r /content/results152.zip /content/CNNDetection/results"
      ]
    },
    {
      "cell_type": "code",
      "execution_count": 41,
      "metadata": {
        "id": "GaiEfWyiceql"
      },
      "outputs": [],
      "source": [
        "!cp -Rf /content/results152.zip /content/gdrive/MyDrive/"
      ]
    }
  ],
  "metadata": {
    "accelerator": "GPU",
    "colab": {
      "collapsed_sections": [],
      "name": "CNN_detection.ipynb",
      "provenance": []
    },
    "kernelspec": {
      "display_name": "Python 3",
      "name": "python3"
    },
    "language_info": {
      "name": "python"
    }
  },
  "nbformat": 4,
  "nbformat_minor": 0
}
