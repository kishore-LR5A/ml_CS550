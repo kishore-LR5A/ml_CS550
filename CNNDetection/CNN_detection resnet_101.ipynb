{
  "cells": [
    {
      "cell_type": "markdown",
      "metadata": {},
      "source": [
        "# **Resnet 101 classifier model trained on Stylegan dataset**"
      ]
    },
    {
      "cell_type": "markdown",
      "metadata": {
        "id": "iXVpq7c6JBAw"
      },
      "source": [
        "## **Mounting google drive**"
      ]
    },
    {
      "cell_type": "code",
      "execution_count": 1,
      "metadata": {
        "colab": {
          "base_uri": "https://localhost:8080/"
        },
        "id": "Lzrb84EH5JMC",
        "outputId": "746e7d55-a78d-4f96-8e42-71d7ca62771f"
      },
      "outputs": [
        {
          "name": "stdout",
          "output_type": "stream",
          "text": [
            "Mounted at /content/gdrive\n"
          ]
        }
      ],
      "source": [
        "# mount the google drive\n",
        "from google.colab import drive\n",
        "drive.mount('/content/gdrive')"
      ]
    },
    {
      "cell_type": "markdown",
      "metadata": {
        "id": "bz1t5c_kJVIv"
      },
      "source": [
        "## **Cloning the code Repository**"
      ]
    },
    {
      "cell_type": "code",
      "execution_count": 2,
      "metadata": {
        "colab": {
          "base_uri": "https://localhost:8080/"
        },
        "id": "mlSnobHm5RbA",
        "outputId": "e906f6b2-ee62-4b5b-993e-5509f76316b2"
      },
      "outputs": [
        {
          "name": "stdout",
          "output_type": "stream",
          "text": [
            "Cloning into 'CNNDetection'...\n",
            "remote: Enumerating objects: 632, done.\u001b[K\n",
            "remote: Counting objects: 100% (6/6), done.\u001b[K\n",
            "remote: Compressing objects: 100% (6/6), done.\u001b[K\n",
            "remote: Total 632 (delta 0), reused 1 (delta 0), pack-reused 626\u001b[K\n",
            "Receiving objects: 100% (632/632), 6.37 MiB | 19.77 MiB/s, done.\n",
            "Resolving deltas: 100% (94/94), done.\n"
          ]
        }
      ],
      "source": [
        "# cd to any directory\n",
        "!git clone https://github.com/PeterWang512/CNNDetection.git"
      ]
    },
    {
      "cell_type": "markdown",
      "metadata": {
        "id": "cju6zWwJeSqW"
      },
      "source": [
        "## Download commands"
      ]
    },
    {
      "cell_type": "code",
      "execution_count": null,
      "metadata": {
        "id": "2212OlusUC8Q"
      },
      "outputs": [],
      "source": [
        "!cd /content/CNNDetection/dataset/test/ && bash download_testset.sh"
      ]
    },
    {
      "cell_type": "code",
      "execution_count": 11,
      "metadata": {
        "id": "3w3kp0MCUL2U"
      },
      "outputs": [],
      "source": [
        "!cp -Rf /content/gdrive/MyDrive/stylegan50/bedroom /content/CNNDetection/dataset/val/"
      ]
    },
    {
      "cell_type": "code",
      "execution_count": 12,
      "metadata": {
        "id": "rXtiiCZBWfAL"
      },
      "outputs": [],
      "source": [
        "!cp -Rf /content/gdrive/MyDrive/stylegan50/car /content/CNNDetection/dataset/val/"
      ]
    },
    {
      "cell_type": "code",
      "execution_count": 13,
      "metadata": {
        "id": "kAnAn0l2WlZg"
      },
      "outputs": [],
      "source": [
        "!cp -Rf /content/gdrive/MyDrive/stylegan50/cat /content/CNNDetection/dataset/val/"
      ]
    },
    {
      "cell_type": "code",
      "execution_count": 14,
      "metadata": {
        "id": "-3o_eF_lW2PU"
      },
      "outputs": [],
      "source": [
        "!cp -Rf /content/gdrive/MyDrive/stylegan.zip /content/CNNDetection/dataset/train/"
      ]
    },
    {
      "cell_type": "code",
      "execution_count": null,
      "metadata": {
        "id": "9Mf_wjRyXNVp"
      },
      "outputs": [],
      "source": [
        "!unzip /content/CNNDetection/dataset/train/stylegan.zip "
      ]
    },
    {
      "cell_type": "code",
      "execution_count": 16,
      "metadata": {
        "id": "vXuc4THcXxd_"
      },
      "outputs": [],
      "source": [
        "!cp -Rf /content/stylegan/bedroom /content/CNNDetection/dataset/train/"
      ]
    },
    {
      "cell_type": "code",
      "execution_count": 17,
      "metadata": {
        "id": "Tu7ciYO5X5Z5"
      },
      "outputs": [],
      "source": [
        "!cp -Rf /content/stylegan/car /content/CNNDetection/dataset/train/"
      ]
    },
    {
      "cell_type": "code",
      "execution_count": 18,
      "metadata": {
        "id": "_L9-iPPwX8DT"
      },
      "outputs": [],
      "source": [
        "!cp -Rf /content/stylegan/cat /content/CNNDetection/dataset/train/"
      ]
    },
    {
      "cell_type": "code",
      "execution_count": 19,
      "metadata": {
        "id": "AHr5SAJPYFRp"
      },
      "outputs": [],
      "source": [
        "! rm -rf /content/stylegan"
      ]
    },
    {
      "cell_type": "markdown",
      "metadata": {
        "id": "5zCZdOkmePpl"
      },
      "source": [
        "## Copy commands"
      ]
    },
    {
      "cell_type": "code",
      "execution_count": null,
      "metadata": {
        "id": "sabavpvva9ZH"
      },
      "outputs": [],
      "source": [
        "!cp -Rf /content/CNNDetection/dataset/test/stylegan/bedroom /content/CNNDetection/dataset/train"
      ]
    },
    {
      "cell_type": "code",
      "execution_count": null,
      "metadata": {
        "id": "Lc7bK4hbd3q-"
      },
      "outputs": [],
      "source": [
        "!cp -Rf /content/CNNDetection/dataset/test/stylegan/car /content/CNNDetection/dataset/train"
      ]
    },
    {
      "cell_type": "code",
      "execution_count": null,
      "metadata": {
        "id": "920RQ4KEd8F9"
      },
      "outputs": [],
      "source": [
        "!cp -Rf /content/CNNDetection/dataset/test/stylegan/cat /content/CNNDetection/dataset/train"
      ]
    },
    {
      "cell_type": "markdown",
      "metadata": {
        "id": "dzc_rSmmeJXW"
      },
      "source": [
        "## Remove commands"
      ]
    },
    {
      "cell_type": "code",
      "execution_count": null,
      "metadata": {
        "id": "r7CWzY2BbxBn"
      },
      "outputs": [],
      "source": [
        "!rm -rf /content/CNNDetection/dataset/test/seeingdark /content/CNNDetection/dataset/test/crn /content/CNNDetection/dataset/test/san /content/CNNDetection/dataset/test/stylegan2"
      ]
    },
    {
      "cell_type": "code",
      "execution_count": 6,
      "metadata": {
        "id": "m3zXd-Oyc2I7"
      },
      "outputs": [],
      "source": [
        "!rm -rf /content/CNNDetection/dataset/test/stylegan"
      ]
    },
    {
      "cell_type": "code",
      "execution_count": null,
      "metadata": {
        "id": "gkPJkPnGja7H"
      },
      "outputs": [],
      "source": [
        "!rm -rf /content/CNNDetection/dataset/train/bedroom"
      ]
    },
    {
      "cell_type": "code",
      "execution_count": 10,
      "metadata": {
        "id": "nbgjn6Q0RZQB"
      },
      "outputs": [],
      "source": [
        "!rm -rf /content/CNNDetection/dataset/val/stylegan50"
      ]
    },
    {
      "cell_type": "code",
      "execution_count": 20,
      "metadata": {
        "id": "pRFBykI9Yf59"
      },
      "outputs": [],
      "source": [
        "!rm -rf /content/CNNDetection/dataset/train/stylegan.zip"
      ]
    },
    {
      "cell_type": "code",
      "execution_count": 24,
      "metadata": {
        "id": "QoDGLzpQZ2xd"
      },
      "outputs": [],
      "source": [
        "!rm -rf /content/CNNDetection/checkpoints"
      ]
    },
    {
      "cell_type": "markdown",
      "metadata": {
        "id": "fvQtrt5wg1oK"
      },
      "source": [
        "## **Training**"
      ]
    },
    {
      "cell_type": "code",
      "execution_count": 8,
      "metadata": {
        "colab": {
          "base_uri": "https://localhost:8080/"
        },
        "id": "qt58hhMwhkTJ",
        "outputId": "81932692-6cc3-4211-a993-c29cbfdaa6b4"
      },
      "outputs": [
        {
          "name": "stdout",
          "output_type": "stream",
          "text": [
            "Collecting tensorboardX\n",
            "  Downloading tensorboardX-2.4.1-py2.py3-none-any.whl (124 kB)\n",
            "\u001b[?25l\r\u001b[K     |██▋                             | 10 kB 24.7 MB/s eta 0:00:01\r\u001b[K     |█████▎                          | 20 kB 21.1 MB/s eta 0:00:01\r\u001b[K     |███████▉                        | 30 kB 11.2 MB/s eta 0:00:01\r\u001b[K     |██████████▌                     | 40 kB 9.1 MB/s eta 0:00:01\r\u001b[K     |█████████████▏                  | 51 kB 5.4 MB/s eta 0:00:01\r\u001b[K     |███████████████▊                | 61 kB 5.9 MB/s eta 0:00:01\r\u001b[K     |██████████████████▍             | 71 kB 5.6 MB/s eta 0:00:01\r\u001b[K     |█████████████████████           | 81 kB 6.2 MB/s eta 0:00:01\r\u001b[K     |███████████████████████▋        | 92 kB 4.9 MB/s eta 0:00:01\r\u001b[K     |██████████████████████████▎     | 102 kB 5.3 MB/s eta 0:00:01\r\u001b[K     |█████████████████████████████   | 112 kB 5.3 MB/s eta 0:00:01\r\u001b[K     |███████████████████████████████▌| 122 kB 5.3 MB/s eta 0:00:01\r\u001b[K     |████████████████████████████████| 124 kB 5.3 MB/s \n",
            "\u001b[?25hRequirement already satisfied: protobuf>=3.8.0 in /usr/local/lib/python3.7/dist-packages (from tensorboardX) (3.17.3)\n",
            "Requirement already satisfied: numpy in /usr/local/lib/python3.7/dist-packages (from tensorboardX) (1.19.5)\n",
            "Requirement already satisfied: six>=1.9 in /usr/local/lib/python3.7/dist-packages (from protobuf>=3.8.0->tensorboardX) (1.15.0)\n",
            "Installing collected packages: tensorboardX\n",
            "Successfully installed tensorboardX-2.4.1\n"
          ]
        }
      ],
      "source": [
        "!pip3 install tensorboardX"
      ]
    },
    {
      "cell_type": "code",
      "execution_count": 25,
      "metadata": {
        "colab": {
          "base_uri": "https://localhost:8080/"
        },
        "id": "D0YRiQh-Ya1h",
        "outputId": "bda48a0a-029d-4029-adb5-9c64cd4cd8c3"
      },
      "outputs": [
        {
          "name": "stdout",
          "output_type": "stream",
          "text": [
            "----------------- Options ---------------\n",
            "                     arch: res50                         \n",
            "               batch_size: 32                            \t[default: 64]\n",
            "                    beta1: 0.9                           \n",
            "                blur_prob: 0.5                           \t[default: 0]\n",
            "                 blur_sig: 0.0,3.0                       \t[default: 0.5]\n",
            "          checkpoints_dir: ./checkpoints                 \n",
            "                class_bal: False                         \n",
            "                  classes: bedroom,car,cat               \t[default: ]\n",
            "           continue_train: False                         \n",
            "                 cropSize: 224                           \n",
            "                 data_aug: False                         \n",
            "                 dataroot: ./dataset                     \n",
            "          earlystop_epoch: 5                             \n",
            "                    epoch: latest                        \n",
            "              epoch_count: 1                             \n",
            "                  gpu_ids: 0                             \n",
            "                init_gain: 0.02                          \n",
            "                init_type: normal                        \n",
            "                  isTrain: True                          \t[default: None]\n",
            "               jpg_method: cv2,pil                       \t[default: cv2]\n",
            "                 jpg_prob: 0.5                           \t[default: 0]\n",
            "                 jpg_qual: 30,100                        \t[default: 75]\n",
            "               last_epoch: -1                            \n",
            "                 loadSize: 256                           \n",
            "                loss_freq: 400                           \n",
            "                       lr: 0.0001                        \n",
            "                     mode: binary                        \n",
            "                     name: blur_jpg_prob0.5              \t[default: experiment_name]\n",
            "                new_optim: False                         \n",
            "                    niter: 10000                         \n",
            "                  no_flip: False                         \n",
            "              num_threads: 2                             \t[default: 4]\n",
            "                    optim: adam                          \n",
            "           resize_or_crop: scale_and_crop                \n",
            "                rz_interp: bilinear                      \n",
            "          save_epoch_freq: 20                            \n",
            "         save_latest_freq: 2000                          \n",
            "           serial_batches: False                         \n",
            "                   suffix:                               \n",
            "              train_split: train                         \n",
            "                val_split: val                           \n",
            "----------------- End -------------------\n",
            "#training images = 366\n",
            "saving the model at the end of epoch 0, iters 366\n",
            "(Val @ epoch 0) acc: 0.9333333333333333; ap: 0.9887357061908818\n",
            "Validation accuracy increased (-inf --> 0.933333).  Saving model ...\n",
            "Train loss: 0.301972895860672 at step: 400\n",
            "(Val @ epoch 1) acc: 0.9466666666666667; ap: 0.9927000683195154\n",
            "Validation accuracy increased (0.933333 --> 0.946667).  Saving model ...\n",
            "Train loss: 0.2289716750383377 at step: 800\n",
            "(Val @ epoch 2) acc: 0.94; ap: 0.9843007038512072\n",
            "EarlyStopping counter: 1 out of 5\n",
            "Train loss: 0.038714539259672165 at step: 1200\n",
            "(Val @ epoch 3) acc: 0.9433333333333334; ap: 0.9897628913102641\n",
            "EarlyStopping counter: 2 out of 5\n",
            "Train loss: 0.0711633488535881 at step: 1600\n",
            "(Val @ epoch 4) acc: 0.9533333333333334; ap: 0.9895672678167211\n",
            "Validation accuracy increased (0.946667 --> 0.953333).  Saving model ...\n",
            "Train loss: 0.01100259367376566 at step: 2000\n",
            "saving the latest model blur_jpg_prob0.5 (epoch 5, model.total_steps 2000)\n",
            "(Val @ epoch 5) acc: 0.98; ap: 0.9957159078382598\n",
            "Validation accuracy increased (0.953333 --> 0.980000).  Saving model ...\n",
            "Train loss: 0.05281161516904831 at step: 2400\n",
            "(Val @ epoch 6) acc: 0.9466666666666667; ap: 0.9917835078484372\n",
            "EarlyStopping counter: 1 out of 5\n",
            "Train loss: 0.05540350452065468 at step: 2800\n",
            "(Val @ epoch 7) acc: 0.9333333333333333; ap: 0.983817570292858\n",
            "EarlyStopping counter: 2 out of 5\n",
            "Traceback (most recent call last):\n",
            "  File \"train.py\", line 60, in <module>\n",
            "    model.optimize_parameters()\n",
            "  File \"/content/CNNDetection/networks/trainer.py\", line 62, in optimize_parameters\n",
            "    self.loss.backward()\n",
            "  File \"/usr/local/lib/python3.7/dist-packages/torch/_tensor.py\", line 307, in backward\n",
            "    torch.autograd.backward(self, gradient, retain_graph, create_graph, inputs=inputs)\n",
            "  File \"/usr/local/lib/python3.7/dist-packages/torch/autograd/__init__.py\", line 156, in backward\n",
            "    allow_unreachable=True, accumulate_grad=True)  # allow_unreachable flag\n",
            "KeyboardInterrupt\n"
          ]
        }
      ],
      "source": [
        "!cd /content/CNNDetection && python3 train.py --name blur_jpg_prob0.5 --blur_prob 0.5 --blur_sig 0.0,3.0 --jpg_prob 0.5 --jpg_method cv2,pil --jpg_qual 30,100 --dataroot ./dataset --classes bedroom,car,cat --batch_size 32 --num_threads 2"
      ]
    },
    {
      "cell_type": "markdown",
      "metadata": {
        "id": "CPUzla_oqQ3m"
      },
      "source": [
        "## **Downloading checkpoints folder**"
      ]
    },
    {
      "cell_type": "markdown",
      "metadata": {},
      "source": [
        "#### **for zip it and then copy to the mounted drive.**"
      ]
    },
    {
      "cell_type": "code",
      "execution_count": 26,
      "metadata": {
        "colab": {
          "base_uri": "https://localhost:8080/"
        },
        "id": "ap6VVat-cLtH",
        "outputId": "ac6230c1-09d6-4b62-d15f-b56c256d8083"
      },
      "outputs": [
        {
          "name": "stdout",
          "output_type": "stream",
          "text": [
            "  adding: content/CNNDetection/checkpoints/ (stored 0%)\n",
            "  adding: content/CNNDetection/checkpoints/blur_jpg_prob0.5/ (stored 0%)\n",
            "  adding: content/CNNDetection/checkpoints/blur_jpg_prob0.5/train/ (stored 0%)\n",
            "  adding: content/CNNDetection/checkpoints/blur_jpg_prob0.5/train/events.out.tfevents.1638251639.42dc878743be (deflated 40%)\n",
            "  adding: content/CNNDetection/checkpoints/blur_jpg_prob0.5/model_epoch_0.pth (deflated 8%)\n",
            "  adding: content/CNNDetection/checkpoints/blur_jpg_prob0.5/model_epoch_best.pth (deflated 8%)\n",
            "  adding: content/CNNDetection/checkpoints/blur_jpg_prob0.5/opt.txt (deflated 77%)\n",
            "  adding: content/CNNDetection/checkpoints/blur_jpg_prob0.5/model_epoch_latest.pth (deflated 8%)\n",
            "  adding: content/CNNDetection/checkpoints/blur_jpg_prob0.5/val/ (stored 0%)\n",
            "  adding: content/CNNDetection/checkpoints/blur_jpg_prob0.5/val/events.out.tfevents.1638251639.42dc878743be (deflated 51%)\n"
          ]
        }
      ],
      "source": [
        "!zip -r /content/checkpoints.zip /content/CNNDetection/checkpoints"
      ]
    },
    {
      "cell_type": "code",
      "execution_count": 27,
      "metadata": {
        "id": "GWHebXqyZKvV"
      },
      "outputs": [],
      "source": [
        "!cp -Rf /content/checkpoints.zip /content/gdrive/MyDrive/"
      ]
    },
    {
      "cell_type": "markdown",
      "metadata": {
        "id": "yw54MQmgdlcc"
      },
      "source": [
        "## **Testing**"
      ]
    },
    {
      "cell_type": "markdown",
      "metadata": {},
      "source": [
        "### We have tested our model on progan,biggan"
      ]
    },
    {
      "cell_type": "code",
      "execution_count": 30,
      "metadata": {
        "colab": {
          "base_uri": "https://localhost:8080/"
        },
        "id": "Xuo9ICGWblQv",
        "outputId": "817630b1-dd61-404b-eec4-80435d1183df"
      },
      "outputs": [
        {
          "name": "stdout",
          "output_type": "stream",
          "text": [
            "model_epoch_best model testing on...\n",
            "(progan) acc: 0.51225; ap: 0.6759500440878026\n",
            "(biggan) acc: 0.53625; ap: 0.6119325414641495\n",
            "(cyclegan) acc: 0.5280090840272521; ap: 0.5820448611434252\n",
            "(stargan) acc: 0.49899949974987495; ap: 0.5345935768965911\n",
            "(gaugan) acc: 0.5512; ap: 0.693845750823106\n",
            "(crn) acc: 0.5356471325603259; ap: 0.6826150726254504\n",
            "(imle) acc: 0.5704324663115011; ap: 0.7374186556418209\n",
            "(seeingdark) acc: 0.5166666666666667; ap: 0.518665789878996\n",
            "(san) acc: 0.4931506849315068; ap: 0.4556791265135237\n",
            "(deepfake) acc: 0.5013876040703052; ap: 0.434107030085052\n"
          ]
        }
      ],
      "source": [
        "!cd /content/CNNDetection && python3 eval.py --num_threads 2"
      ]
    },
    {
      "cell_type": "code",
      "execution_count": 31,
      "metadata": {
        "colab": {
          "base_uri": "https://localhost:8080/"
        },
        "id": "dPaJVWY8bqlF",
        "outputId": "3aff2df2-bbfc-425b-a39d-342d736f7700"
      },
      "outputs": [
        {
          "name": "stdout",
          "output_type": "stream",
          "text": [
            "  adding: content/CNNDetection/results/ (stored 0%)\n",
            "  adding: content/CNNDetection/results/model_epoch_best.csv (deflated 39%)\n"
          ]
        }
      ],
      "source": [
        "!zip -r /content/results.zip /content/CNNDetection/results"
      ]
    },
    {
      "cell_type": "code",
      "execution_count": 32,
      "metadata": {
        "id": "GaiEfWyiceql"
      },
      "outputs": [],
      "source": [
        "!cp -Rf /content/results.zip /content/gdrive/MyDrive/"
      ]
    }
  ],
  "metadata": {
    "accelerator": "GPU",
    "colab": {
      "collapsed_sections": [],
      "name": "CNN_detection.ipynb",
      "provenance": []
    },
    "kernelspec": {
      "display_name": "Python 3",
      "name": "python3"
    },
    "language_info": {
      "codemirror_mode": {
        "name": "ipython",
        "version": 3
      },
      "file_extension": ".py",
      "mimetype": "text/x-python",
      "name": "python",
      "nbconvert_exporter": "python",
      "pygments_lexer": "ipython3",
      "version": "3.8.10"
    }
  },
  "nbformat": 4,
  "nbformat_minor": 0
}
